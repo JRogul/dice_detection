{
 "cells": [
  {
   "cell_type": "code",
   "execution_count": 6,
   "metadata": {},
   "outputs": [],
   "source": [
    "import torch\n",
    "import subprocess"
   ]
  },
  {
   "cell_type": "code",
   "execution_count": 7,
   "metadata": {},
   "outputs": [
    {
     "data": {
      "text/plain": [
       "True"
      ]
     },
     "execution_count": 7,
     "metadata": {},
     "output_type": "execute_result"
    }
   ],
   "source": [
    "torch.cuda.is_available()"
   ]
  },
  {
   "cell_type": "code",
   "execution_count": 9,
   "metadata": {},
   "outputs": [
    {
     "data": {
      "text/plain": [
       "1"
      ]
     },
     "execution_count": 9,
     "metadata": {},
     "output_type": "execute_result"
    }
   ],
   "source": [
    "img_path = 'test2.jpg'\n",
    "command = [\"python\", \"detect.py\", \"--weights\", \"best.pt\", \"--conf\", \"0.5\", \"--img-size\", \"800\", \"--source\", \"test2.jpg\", \"--view-img\", \"--no-trace\"]\n",
    "process = subprocess.Popen(command, shell=True)\n",
    "process.wait()"
   ]
  },
  {
   "cell_type": "code",
   "execution_count": 14,
   "metadata": {},
   "outputs": [
    {
     "name": "stdout",
     "output_type": "stream",
     "text": [
      "Package                 Version\n",
      "----------------------- --------------------\n",
      "absl-py                 1.4.0\n",
      "asttokens               2.2.1\n",
      "backcall                0.2.0\n",
      "cachetools              5.3.1\n",
      "certifi                 2022.12.7\n",
      "charset-normalizer      2.1.1\n",
      "colorama                0.4.6\n",
      "comm                    0.1.3\n",
      "contourpy               1.1.0\n",
      "cycler                  0.11.0\n",
      "debugpy                 1.6.7\n",
      "decorator               5.1.1\n",
      "executing               1.2.0\n",
      "filelock                3.9.0\n",
      "fonttools               4.40.0\n",
      "google-auth             2.21.0\n",
      "google-auth-oauthlib    1.0.0\n",
      "grpcio                  1.56.0\n",
      "idna                    3.4\n",
      "importlib-metadata      6.7.0\n",
      "importlib-resources     5.12.0\n",
      "ipykernel               6.23.3\n",
      "ipython                 8.14.0\n",
      "jedi                    0.18.2\n",
      "Jinja2                  3.1.2\n",
      "jupyter_client          8.3.0\n",
      "jupyter_core            5.3.1\n",
      "kiwisolver              1.4.4\n",
      "Markdown                3.4.3\n",
      "MarkupSafe              2.1.2\n",
      "matplotlib              3.7.1\n",
      "matplotlib-inline       0.1.6\n",
      "mpmath                  1.2.1\n",
      "nest-asyncio            1.5.6\n",
      "networkx                3.0\n",
      "numpy                   1.23.5\n",
      "oauthlib                3.2.2\n",
      "opencv-python           4.7.0.72\n",
      "packaging               23.1\n",
      "pandas                  2.0.2\n",
      "parso                   0.8.3\n",
      "pickleshare             0.7.5\n",
      "Pillow                  9.3.0\n",
      "pip                     23.1.2\n",
      "platformdirs            3.8.0\n",
      "prompt-toolkit          3.0.38\n",
      "protobuf                4.21.2\n",
      "psutil                  5.9.5\n",
      "pure-eval               0.2.2\n",
      "pyasn1                  0.5.0\n",
      "pyasn1-modules          0.3.0\n",
      "Pygments                2.15.1\n",
      "pyparsing               3.1.0\n",
      "python-dateutil         2.8.2\n",
      "pytz                    2023.3\n",
      "pywin32                 306\n",
      "PyYAML                  6.0\n",
      "pyzmq                   25.1.0\n",
      "requests                2.28.1\n",
      "requests-oauthlib       1.3.1\n",
      "rsa                     4.9\n",
      "scipy                   1.11.0\n",
      "seaborn                 0.12.2\n",
      "setuptools              58.1.0\n",
      "six                     1.16.0\n",
      "stack-data              0.6.2\n",
      "sympy                   1.11.1\n",
      "tensorboard             2.13.0\n",
      "tensorboard-data-server 0.7.1\n",
      "thop                    0.1.1.post2209072238\n",
      "torch                   2.0.1+cu118\n",
      "torchaudio              2.0.2+cu118\n",
      "torchvision             0.15.2+cu118\n",
      "tornado                 6.3.2\n",
      "tqdm                    4.65.0\n",
      "traitlets               5.9.0\n",
      "typing_extensions       4.6.3\n",
      "tzdata                  2023.3\n",
      "urllib3                 1.26.13\n",
      "wcwidth                 0.2.6\n",
      "Werkzeug                2.3.6\n",
      "wheel                   0.40.0\n",
      "zipp                    3.15.0\n",
      "Note: you may need to restart the kernel to use updated packages.\n"
     ]
    }
   ],
   "source": [
    "python train.py --workers 1 --device 0 --batch-size 8 --epochs 150 --img 800 800 --hyp data/hyp.scratch.custom.yaml --name yolov7-custom --weights yolov7.pt"
   ]
  }
 ],
 "metadata": {
  "kernelspec": {
   "display_name": ".venv",
   "language": "python",
   "name": "python3"
  },
  "language_info": {
   "codemirror_mode": {
    "name": "ipython",
    "version": 3
   },
   "file_extension": ".py",
   "mimetype": "text/x-python",
   "name": "python",
   "nbconvert_exporter": "python",
   "pygments_lexer": "ipython3",
   "version": "3.9.12"
  },
  "orig_nbformat": 4
 },
 "nbformat": 4,
 "nbformat_minor": 2
}
